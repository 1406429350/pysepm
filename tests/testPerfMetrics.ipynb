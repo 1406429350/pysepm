{
 "cells": [
  {
   "cell_type": "code",
   "execution_count": 1,
   "metadata": {},
   "outputs": [],
   "source": [
    "from scipy.io import wavfile,loadmat\n",
    "from scipy.signal import stft,get_window, correlate\n",
    "import librosa\n",
    "import numpy as np\n",
    "import matplotlib.pyplot as plt\n",
    "import sys\n",
    "sys.path.append(\"../\") \n",
    "\n",
    "import pysepm as pm #import fwSNRseg,SNRseg,llr,wss, composite,pesq,stoi"
   ]
  },
  {
   "cell_type": "code",
   "execution_count": 2,
   "metadata": {},
   "outputs": [],
   "source": [
    "resultsOrig = loadmat('results.mat')\n",
    "resultsOrig=resultsOrig['results']\n"
   ]
  },
  {
   "cell_type": "code",
   "execution_count": 3,
   "metadata": {},
   "outputs": [],
   "source": [
    "filePairs=[]\n",
    "filePairs.append(['speech.wav','speech_bab_0dB.wav'])\n",
    "filePairs.append(['sp04.wav','sp04_babble_sn10.wav'])\n",
    "filePairs.append(['enhanced.wav','sp04_babble_sn10.wav'])\n",
    "filePairs.append(['sp04.wav','enhanced.wav'])\n",
    "filePairs.append(['S_03_01.wav','S_03_01_babble_sn0_klt.wav'])\n",
    "filePairs.append(['cleanSample_valIdx12.wav','noisySample_valIdx12.wav'])\n",
    "filePairs.append(['cleanSample_valIdx12.wav','enhancedSample_valIdx12.wav'])\n",
    "filePairs.append(['cleanSample_valIdx356.wav','noisySample_valIdx356.wav'])\n",
    "filePairs.append(['cleanSample_valIdx356.wav','enhancedSample_valIdx356.wav'])"
   ]
  },
  {
   "cell_type": "code",
   "execution_count": 12,
   "metadata": {},
   "outputs": [],
   "source": [
    "results = np.zeros((len(filePairs),14))\n",
    "for idx,filePair in enumerate(filePairs):\n",
    "    fs, cleanSig = wavfile.read(filePair[0])\n",
    "    fs, enhancedSig = wavfile.read(filePair[1])\n",
    "    if cleanSig.dtype=='int16':\n",
    "        cleanSig = cleanSig.astype('float')/abs(np.iinfo(cleanSig.dtype).min)\n",
    "    if enhancedSig.dtype=='int16':\n",
    "        enhancedSig = enhancedSig.astype('float')/abs(np.iinfo(enhancedSig.dtype).min)\n",
    "    \n",
    "    if cleanSig.shape!=enhancedSig.shape:\n",
    "        minLen=min((len(cleanSig),len(enhancedSig)))\n",
    "        cleanSig = cleanSig[0:minLen]\n",
    "        enhancedSig = enhancedSig[0:minLen]\n",
    "    cleanSig = cleanSig/np.max(np.abs(cleanSig))\n",
    "    enhancedSig = enhancedSig/np.max(np.abs(enhancedSig))\n",
    "    results[idx,0]=pm.fwSNRseg(cleanSig, enhancedSig, fs)\n",
    "    results[idx,1]=pm.SNRseg(cleanSig, enhancedSig, fs)\n",
    "    results[idx,2]=pm.llr(cleanSig, enhancedSig, fs)\n",
    "    results[idx,3]=pm.wss(cleanSig, enhancedSig, fs)\n",
    "    results[idx,4]=pm.cepstrum_distance(cleanSig, enhancedSig, fs)\n",
    "    results[idx,5]=pm.stoi(cleanSig, enhancedSig, fs)\n",
    "    CSIIh,CSIIm,CSIIl=pm.csii(cleanSig, enhancedSig, fs)\n",
    "    results[idx,6]=CSIIh\n",
    "    results[idx,7]=CSIIm\n",
    "    results[idx,8]=CSIIl\n",
    "    \n",
    "    if (fs!=16000) | (fs!=8000):\n",
    "        cleanSig=librosa.core.resample(cleanSig, fs,16000)\n",
    "        enhancedSig=librosa.core.resample(enhancedSig,fs,16000)        \n",
    "        fs = 16000        \n",
    "    mos_lqo, pesq_mos = pm.pesq(cleanSig, enhancedSig,fs)   \n",
    "    results[idx,9] = mos_lqo\n",
    "    Csig,Cbak,Covl=pm.composite(cleanSig, enhancedSig, fs)\n",
    "    results[idx,10]=Csig\n",
    "    results[idx,11]=Cbak\n",
    "    results[idx,12]=Covl\n",
    "    results[idx,13]=pm.ncm(cleanSig, enhancedSig, fs)\n"
   ]
  },
  {
   "cell_type": "code",
   "execution_count": 13,
   "metadata": {},
   "outputs": [
    {
     "data": {
      "text/plain": [
       "array([[ 1.00557757e-07,  5.82305131e-10, -1.52973926e-09,\n",
       "         9.21022207e-09, -1.52513226e-09,  4.18685399e-05,\n",
       "        -1.42606629e-09, -7.68933070e-10,  6.42985470e-09,\n",
       "        -5.64410331e-06, -1.40880761e-01, -1.64403493e-01,\n",
       "        -2.67517220e-01, -5.62490318e-03],\n",
       "       [-1.59987136e-06,  6.89547874e-09,  2.56695880e-09,\n",
       "        -1.61318294e-08,  4.53037052e-09,  1.37028861e-05,\n",
       "        -2.14645365e-09,  9.72270751e-11, -3.99623268e-09,\n",
       "        -2.81971157e-02,  6.62283926e-02,  7.07303852e-02,\n",
       "         1.11422091e-01, -3.51837880e-02],\n",
       "       [-2.89026689e-08,  1.07582911e-09,  1.13685130e-08,\n",
       "        -4.47057912e-08,  1.33628041e-08, -1.39590226e-04,\n",
       "        -1.46891603e-09,  6.72397331e-10, -6.64251355e-10,\n",
       "         1.88176536e-03, -5.36503122e-03,  5.80227919e-02,\n",
       "         5.48917065e-02, -2.09734119e-02],\n",
       "       [-6.23729375e-08, -1.72087206e-09,  1.22098149e-08,\n",
       "        -1.38945664e-08,  8.57458354e-09, -3.82818747e-05,\n",
       "        -1.72355789e-09,  2.28281874e-09,  2.23745188e-10,\n",
       "         2.42903131e-02,  5.53501279e-02,  9.17225473e-02,\n",
       "         1.30558018e-01, -2.73242243e-03],\n",
       "       [ 1.95809690e-07, -4.60415085e-09, -3.23102272e-08,\n",
       "        -6.22370895e-08, -2.15094159e-08, -3.40158840e-04,\n",
       "        -1.06141072e-08,  5.99642394e-09, -4.44663815e-08,\n",
       "         1.49775826e-03, -1.31042382e-01,  3.21541380e-02,\n",
       "        -4.67349239e-02, -8.81628020e-03],\n",
       "       [-5.19009614e-15, -3.30978519e-16, -1.00689509e-12,\n",
       "         4.76297147e-16, -3.46303801e-13, -4.32098332e-06,\n",
       "        -2.52930713e-10,  2.81795423e-08, -3.07701472e-08,\n",
       "         2.27190991e-03,  2.07603352e-02,  2.59035275e-02,\n",
       "         4.19050569e-02, -6.88522285e-04],\n",
       "       [ 5.64933006e-15, -8.90153085e-16,  3.18227315e-09,\n",
       "         1.84146012e-15,  5.18962850e-11,  1.12080798e-05,\n",
       "         2.15288715e-07,  5.04847697e-07,  1.99153996e-06,\n",
       "        -2.93397750e-04, -1.35709466e-01, -6.92200222e-02,\n",
       "        -1.28633105e-01, -5.18789582e-03],\n",
       "       [ 1.67628396e-15, -1.25202638e-15, -5.42118188e-13,\n",
       "         7.60537654e-16, -3.99889630e-13, -2.47237404e-06,\n",
       "        -2.30973861e-07,  1.46921536e-07,  3.27272276e-08,\n",
       "         2.02069067e-03, -7.42118666e-02, -1.04246783e-01,\n",
       "        -1.43331680e-01, -3.24183240e-04],\n",
       "       [-3.62677816e-16,  1.41554414e-15,  1.92248505e-10,\n",
       "         7.03918921e-16,  3.79715942e-11,  3.30725671e-05,\n",
       "         1.64786808e-07,  5.80454258e-07,  0.00000000e+00,\n",
       "         1.25524566e-03,  0.00000000e+00, -1.20935074e-01,\n",
       "         0.00000000e+00, -6.67466537e-03]])"
      ]
     },
     "execution_count": 13,
     "metadata": {},
     "output_type": "execute_result"
    }
   ],
   "source": [
    "(results-resultsOrig)/(resultsOrig+1e-20)"
   ]
  },
  {
   "cell_type": "code",
   "execution_count": null,
   "metadata": {},
   "outputs": [],
   "source": []
  },
  {
   "cell_type": "markdown",
   "metadata": {},
   "source": [
    "# frequency weighted segmental SNR (fwSNRSeg)"
   ]
  },
  {
   "cell_type": "code",
   "execution_count": 2,
   "metadata": {
    "scrolled": true
   },
   "outputs": [
    {
     "data": {
      "text/plain": [
       "3.355400106582439"
      ]
     },
     "execution_count": 2,
     "metadata": {},
     "output_type": "execute_result"
    }
   ],
   "source": [
    "fs, cleanSig = wavfile.read(\"./speech.wav\")\n",
    "fs, enhancedSig = wavfile.read(\"./speech_bab_0dB.wav\")\n",
    "pm.fwSNRseg(cleanSig, enhancedSig, fs)# should be  3.3554\n"
   ]
  },
  {
   "cell_type": "code",
   "execution_count": 3,
   "metadata": {},
   "outputs": [
    {
     "data": {
      "text/plain": [
       "10.093763940018944"
      ]
     },
     "execution_count": 3,
     "metadata": {},
     "output_type": "execute_result"
    }
   ],
   "source": [
    "fs, cleanSig = wavfile.read(\"./sp04.wav\")\n",
    "fs, enhancedSig = wavfile.read(\"./sp04_babble_sn10.wav\")\n",
    "pm.fwSNRseg(cleanSig, enhancedSig, fs)# should be  10.0938\n"
   ]
  },
  {
   "cell_type": "code",
   "execution_count": 4,
   "metadata": {},
   "outputs": [
    {
     "data": {
      "text/plain": [
       "12.560192001043312"
      ]
     },
     "execution_count": 4,
     "metadata": {},
     "output_type": "execute_result"
    }
   ],
   "source": [
    "fs, cleanSig = wavfile.read(\"./enhanced.wav\")\n",
    "fs, enhancedSig = wavfile.read(\"./sp04_babble_sn10.wav\")\n",
    "pm.fwSNRseg(cleanSig, enhancedSig[0:len(cleanSig)], fs) # should be  12.5602\n"
   ]
  },
  {
   "cell_type": "markdown",
   "metadata": {},
   "source": [
    "# Segmental SNR (SNRSeg)"
   ]
  },
  {
   "cell_type": "code",
   "execution_count": 123,
   "metadata": {},
   "outputs": [
    {
     "data": {
      "text/plain": [
       "-4.0386645840708395"
      ]
     },
     "execution_count": 123,
     "metadata": {},
     "output_type": "execute_result"
    }
   ],
   "source": [
    "fs, cleanSig = wavfile.read(\"./speech.wav\")\n",
    "fs, enhancedSig = wavfile.read(\"./speech_bab_0dB.wav\")\n",
    "pm.SNRseg(cleanSig, enhancedSig, fs)# should be -4.0387\n"
   ]
  },
  {
   "cell_type": "code",
   "execution_count": 124,
   "metadata": {},
   "outputs": [
    {
     "data": {
      "text/plain": [
       "0.959472693785315"
      ]
     },
     "execution_count": 124,
     "metadata": {},
     "output_type": "execute_result"
    }
   ],
   "source": [
    "fs, cleanSig = wavfile.read(\"./sp04.wav\")\n",
    "fs, enhancedSig = wavfile.read(\"./sp04_babble_sn10.wav\")\n",
    "pm.SNRseg(cleanSig, enhancedSig, fs)# should be 0.9595\n"
   ]
  },
  {
   "cell_type": "code",
   "execution_count": 125,
   "metadata": {},
   "outputs": [
    {
     "data": {
      "text/plain": [
       "5.281379775527017"
      ]
     },
     "execution_count": 125,
     "metadata": {},
     "output_type": "execute_result"
    }
   ],
   "source": [
    "fs, cleanSig = wavfile.read(\"./enhanced.wav\")\n",
    "fs, enhancedSig = wavfile.read(\"./sp04_babble_sn10.wav\")\n",
    "pm.SNRseg(cleanSig, enhancedSig[0:len(cleanSig)], fs) # should be 5.2814\n"
   ]
  },
  {
   "cell_type": "markdown",
   "metadata": {},
   "source": [
    "# Log Likelihood Ratio (LLR)"
   ]
  },
  {
   "cell_type": "code",
   "execution_count": 8,
   "metadata": {},
   "outputs": [
    {
     "data": {
      "text/plain": [
       "0.9607521284183373"
      ]
     },
     "execution_count": 8,
     "metadata": {},
     "output_type": "execute_result"
    }
   ],
   "source": [
    "fs, cleanSig = wavfile.read(\"./speech.wav\")\n",
    "fs, enhancedSig = wavfile.read(\"./speech_bab_0dB.wav\")\n",
    "pm.llr(cleanSig, enhancedSig, fs)# should be 0.9593\n"
   ]
  },
  {
   "cell_type": "code",
   "execution_count": 9,
   "metadata": {},
   "outputs": [
    {
     "data": {
      "text/plain": [
       "0.6399952859426925"
      ]
     },
     "execution_count": 9,
     "metadata": {},
     "output_type": "execute_result"
    }
   ],
   "source": [
    "fs, cleanSig = wavfile.read(\"./sp04.wav\")\n",
    "fs, enhancedSig = wavfile.read(\"./sp04_babble_sn10.wav\")\n",
    "pm.llr(cleanSig, enhancedSig, fs)# should be 0.6400\n"
   ]
  },
  {
   "cell_type": "code",
   "execution_count": 10,
   "metadata": {},
   "outputs": [
    {
     "data": {
      "text/plain": [
       "0.222739174060473"
      ]
     },
     "execution_count": 10,
     "metadata": {},
     "output_type": "execute_result"
    }
   ],
   "source": [
    "fs, cleanSig = wavfile.read(\"./enhanced.wav\")\n",
    "fs, enhancedSig = wavfile.read(\"./sp04_babble_sn10.wav\")\n",
    "pm.llr(cleanSig, enhancedSig[0:len(cleanSig)], fs) # should be 0.2227"
   ]
  },
  {
   "cell_type": "markdown",
   "metadata": {},
   "source": [
    "# Weighted Spectral Slope (WSS)"
   ]
  },
  {
   "cell_type": "code",
   "execution_count": 11,
   "metadata": {},
   "outputs": [
    {
     "data": {
      "text/plain": [
       "52.65786610835284"
      ]
     },
     "execution_count": 11,
     "metadata": {},
     "output_type": "execute_result"
    }
   ],
   "source": [
    "fs, cleanSig = wavfile.read(\"./speech.wav\")\n",
    "fs, enhancedSig = wavfile.read(\"./speech_bab_0dB.wav\")\n",
    "pm.wss(cleanSig, enhancedSig, fs)# should be 52.6579"
   ]
  },
  {
   "cell_type": "code",
   "execution_count": 12,
   "metadata": {},
   "outputs": [
    {
     "data": {
      "text/plain": [
       "37.64901719583485"
      ]
     },
     "execution_count": 12,
     "metadata": {},
     "output_type": "execute_result"
    }
   ],
   "source": [
    "fs, cleanSig = wavfile.read(\"./sp04.wav\")\n",
    "fs, enhancedSig = wavfile.read(\"./sp04_babble_sn10.wav\")\n",
    "pm.wss(cleanSig, enhancedSig, fs)# should be 37.6490"
   ]
  },
  {
   "cell_type": "code",
   "execution_count": 13,
   "metadata": {},
   "outputs": [
    {
     "data": {
      "text/plain": [
       "19.612652522957717"
      ]
     },
     "execution_count": 13,
     "metadata": {},
     "output_type": "execute_result"
    }
   ],
   "source": [
    "fs, cleanSig = wavfile.read(\"./enhanced.wav\")\n",
    "fs, enhancedSig = wavfile.read(\"./sp04_babble_sn10.wav\")\n",
    "pm.wss(cleanSig, enhancedSig[0:len(cleanSig)], fs) # should be 19.6127"
   ]
  },
  {
   "cell_type": "markdown",
   "metadata": {},
   "source": [
    "# PESQ"
   ]
  },
  {
   "cell_type": "code",
   "execution_count": 14,
   "metadata": {},
   "outputs": [
    {
     "data": {
      "text/plain": [
       "1.0832337141036987"
      ]
     },
     "execution_count": 14,
     "metadata": {},
     "output_type": "execute_result"
    }
   ],
   "source": [
    "fs, cleanSig = wavfile.read(\"./speech.wav\")\n",
    "fs, enhancedSig = wavfile.read(\"./speech_bab_0dB.wav\")\n",
    "pm.pesq(cleanSig, enhancedSig, fs)# should be 1.0832"
   ]
  },
  {
   "cell_type": "code",
   "execution_count": 15,
   "metadata": {},
   "outputs": [
    {
     "data": {
      "text/plain": [
       "2.463416557463939"
      ]
     },
     "execution_count": 15,
     "metadata": {},
     "output_type": "execute_result"
    }
   ],
   "source": [
    "fs, cleanSig = wavfile.read(\"./sp04.wav\")\n",
    "fs, enhancedSig = wavfile.read(\"./sp04_babble_sn10.wav\")\n",
    "pm.pesq(cleanSig, enhancedSig, fs)# should be 2.4634"
   ]
  },
  {
   "cell_type": "code",
   "execution_count": 16,
   "metadata": {},
   "outputs": [
    {
     "data": {
      "text/plain": [
       "2.7307331381405935"
      ]
     },
     "execution_count": 16,
     "metadata": {},
     "output_type": "execute_result"
    }
   ],
   "source": [
    "fs, cleanSig = wavfile.read(\"./enhanced.wav\")\n",
    "fs, enhancedSig = wavfile.read(\"./sp04_babble_sn10.wav\")\n",
    "pm.pesq(cleanSig, enhancedSig[0:len(cleanSig)], fs) # should be 2.7293"
   ]
  },
  {
   "cell_type": "markdown",
   "metadata": {},
   "source": [
    "# Composite Objective Speech Quality Measure"
   ]
  },
  {
   "cell_type": "code",
   "execution_count": 17,
   "metadata": {},
   "outputs": [
    {
     "data": {
      "text/plain": [
       "(2.2836551944868853, 1.5287447837866348, 1.6054929873448194)"
      ]
     },
     "execution_count": 17,
     "metadata": {},
     "output_type": "execute_result"
    }
   ],
   "source": [
    "fs, cleanSig = wavfile.read(\"./speech.wav\")\n",
    "fs, enhancedSig = wavfile.read(\"./speech_bab_0dB.wav\")\n",
    "pm.composite(cleanSig, enhancedSig, fs)# should be (2.2837,1.5287,1.6055)"
   ]
  },
  {
   "cell_type": "code",
   "execution_count": 18,
   "metadata": {},
   "outputs": [
    {
     "data": {
      "text/plain": [
       "(3.581043880153211, 2.608416773805394, 2.9858296219849687)"
      ]
     },
     "execution_count": 18,
     "metadata": {},
     "output_type": "execute_result"
    }
   ],
   "source": [
    "fs, cleanSig = wavfile.read(\"./sp04.wav\")\n",
    "fs, enhancedSig = wavfile.read(\"./sp04_babble_sn10.wav\")\n",
    "pm.composite(cleanSig, enhancedSig, fs)# should be (3.5810,2.6084,2.9858)"
   ]
  },
  {
   "cell_type": "code",
   "execution_count": 19,
   "metadata": {},
   "outputs": [
    {
     "data": {
      "text/plain": [
       "(4.333919599483931, 3.1347287982287013, 3.5409091514235116)"
      ]
     },
     "execution_count": 19,
     "metadata": {},
     "output_type": "execute_result"
    }
   ],
   "source": [
    "fs, cleanSig = wavfile.read(\"./enhanced.wav\")\n",
    "fs, enhancedSig = wavfile.read(\"./sp04_babble_sn10.wav\")\n",
    "pm.composite(cleanSig, enhancedSig[0:len(cleanSig)], fs) # should be (4.3330,3.1340,3.5397)"
   ]
  },
  {
   "cell_type": "markdown",
   "metadata": {},
   "source": [
    "# Cepstrum Distance Objective Speech Quality Measure"
   ]
  },
  {
   "cell_type": "code",
   "execution_count": 20,
   "metadata": {},
   "outputs": [
    {
     "data": {
      "text/plain": [
       "6.3889163971985266"
      ]
     },
     "execution_count": 20,
     "metadata": {},
     "output_type": "execute_result"
    }
   ],
   "source": [
    "fs, cleanSig = wavfile.read(\"./speech.wav\")\n",
    "fs, enhancedSig = wavfile.read(\"./speech_bab_0dB.wav\")\n",
    "pm.cepstrum_distance(cleanSig, enhancedSig, fs)# should be 6.388916397199216"
   ]
  },
  {
   "cell_type": "code",
   "execution_count": 21,
   "metadata": {},
   "outputs": [
    {
     "data": {
      "text/plain": [
       "4.26593320307941"
      ]
     },
     "execution_count": 21,
     "metadata": {},
     "output_type": "execute_result"
    }
   ],
   "source": [
    "fs, cleanSig = wavfile.read(\"./sp04.wav\")\n",
    "fs, enhancedSig = wavfile.read(\"./sp04_babble_sn10.wav\")\n",
    "pm.cepstrum_distance(cleanSig, enhancedSig, fs)# should be 4.265933203079426"
   ]
  },
  {
   "cell_type": "code",
   "execution_count": 22,
   "metadata": {},
   "outputs": [
    {
     "data": {
      "text/plain": [
       "2.3969895754520847"
      ]
     },
     "execution_count": 22,
     "metadata": {},
     "output_type": "execute_result"
    }
   ],
   "source": [
    "fs, cleanSig = wavfile.read(\"./enhanced.wav\")\n",
    "fs, enhancedSig = wavfile.read(\"./sp04_babble_sn10.wav\")\n",
    "pm.cepstrum_distance(cleanSig, enhancedSig, fs)# should be 2.396989575452212"
   ]
  },
  {
   "cell_type": "markdown",
   "metadata": {},
   "source": [
    "# STOI"
   ]
  },
  {
   "cell_type": "code",
   "execution_count": 23,
   "metadata": {},
   "outputs": [
    {
     "data": {
      "text/plain": [
       "0.6739177895331303"
      ]
     },
     "execution_count": 23,
     "metadata": {},
     "output_type": "execute_result"
    }
   ],
   "source": [
    "fs, cleanSig = wavfile.read(\"./speech.wav\")\n",
    "fs, enhancedSig = wavfile.read(\"./speech_bab_0dB.wav\")\n",
    "pm.stoi(cleanSig, enhancedSig, fs)# should be 0.6739"
   ]
  },
  {
   "cell_type": "code",
   "execution_count": 24,
   "metadata": {},
   "outputs": [
    {
     "data": {
      "text/plain": [
       "0.8934582975768947"
      ]
     },
     "execution_count": 24,
     "metadata": {},
     "output_type": "execute_result"
    }
   ],
   "source": [
    "fs, cleanSig = wavfile.read(\"./sp04.wav\")\n",
    "fs, enhancedSig = wavfile.read(\"./sp04_babble_sn10.wav\")\n",
    "pm.stoi(cleanSig, enhancedSig, fs)# should be 0.8934"
   ]
  },
  {
   "cell_type": "code",
   "execution_count": 25,
   "metadata": {},
   "outputs": [
    {
     "data": {
      "text/plain": [
       "0.8916166026077093"
      ]
     },
     "execution_count": 25,
     "metadata": {},
     "output_type": "execute_result"
    }
   ],
   "source": [
    "fs, cleanSig = wavfile.read(\"./enhanced.wav\")\n",
    "fs, enhancedSig = wavfile.read(\"./sp04_babble_sn10.wav\")\n",
    "pm.stoi(cleanSig, enhancedSig[0:len(cleanSig)], fs) # should be 0.8917"
   ]
  },
  {
   "cell_type": "code",
   "execution_count": 26,
   "metadata": {},
   "outputs": [],
   "source": [
    "from pesq import pesq\n",
    "from scipy.signal import stft,get_window,correlate,resample\n"
   ]
  },
  {
   "cell_type": "code",
   "execution_count": 27,
   "metadata": {},
   "outputs": [],
   "source": [
    "        numSamples=round(len(cleanSig)/fs*16000)\n",
    "        fs = 16000\n",
    "        pesq_mos = pesq(fs,resample(cleanSig, numSamples), resample(enhancedSig, numSamples), 'wb')\n"
   ]
  },
  {
   "cell_type": "code",
   "execution_count": null,
   "metadata": {},
   "outputs": [],
   "source": []
  },
  {
   "cell_type": "code",
   "execution_count": null,
   "metadata": {},
   "outputs": [],
   "source": []
  },
  {
   "cell_type": "code",
   "execution_count": null,
   "metadata": {},
   "outputs": [],
   "source": []
  },
  {
   "cell_type": "code",
   "execution_count": null,
   "metadata": {},
   "outputs": [],
   "source": []
  },
  {
   "cell_type": "code",
   "execution_count": null,
   "metadata": {},
   "outputs": [],
   "source": []
  },
  {
   "cell_type": "code",
   "execution_count": null,
   "metadata": {},
   "outputs": [],
   "source": []
  },
  {
   "cell_type": "code",
   "execution_count": null,
   "metadata": {},
   "outputs": [],
   "source": []
  },
  {
   "cell_type": "code",
   "execution_count": null,
   "metadata": {},
   "outputs": [],
   "source": []
  },
  {
   "cell_type": "code",
   "execution_count": null,
   "metadata": {},
   "outputs": [],
   "source": []
  },
  {
   "cell_type": "markdown",
   "metadata": {},
   "source": [
    "# NCM"
   ]
  },
  {
   "cell_type": "code",
   "execution_count": 29,
   "metadata": {},
   "outputs": [
    {
     "data": {
      "text/plain": [
       "0.5328171511427755"
      ]
     },
     "execution_count": 29,
     "metadata": {},
     "output_type": "execute_result"
    }
   ],
   "source": [
    "fs, cleanSig = wavfile.read(\"./speech.wav\")\n",
    "fs, enhancedSig = wavfile.read(\"./speech_bab_0dB.wav\")\n",
    "pm.ncm(cleanSig, enhancedSig, fs)# should be "
   ]
  },
  {
   "cell_type": "code",
   "execution_count": 30,
   "metadata": {},
   "outputs": [
    {
     "data": {
      "text/plain": [
       "0.9050747979588915"
      ]
     },
     "execution_count": 30,
     "metadata": {},
     "output_type": "execute_result"
    }
   ],
   "source": [
    "fs, cleanSig = wavfile.read(\"./sp04.wav\")\n",
    "fs, enhancedSig = wavfile.read(\"./sp04_babble_sn10.wav\")\n",
    "pm.ncm(cleanSig, enhancedSig, fs)# should be "
   ]
  },
  {
   "cell_type": "code",
   "execution_count": 31,
   "metadata": {},
   "outputs": [
    {
     "data": {
      "text/plain": [
       "0.9633151692925036"
      ]
     },
     "execution_count": 31,
     "metadata": {},
     "output_type": "execute_result"
    }
   ],
   "source": [
    "fs, cleanSig = wavfile.read(\"./enhanced.wav\")\n",
    "fs, enhancedSig = wavfile.read(\"./sp04_babble_sn10.wav\")\n",
    "pm.ncm(cleanSig, enhancedSig[0:len(cleanSig)], fs) # should be "
   ]
  },
  {
   "cell_type": "markdown",
   "metadata": {},
   "source": [
    "# CSII"
   ]
  },
  {
   "cell_type": "code",
   "execution_count": 33,
   "metadata": {},
   "outputs": [
    {
     "data": {
      "text/plain": [
       "(0.5747598820639694, 0.3343790504514923, 0.02616214182320878)"
      ]
     },
     "execution_count": 33,
     "metadata": {},
     "output_type": "execute_result"
    }
   ],
   "source": [
    "fs, cleanSig = wavfile.read(\"./speech.wav\")\n",
    "fs, enhancedSig = wavfile.read(\"./speech_bab_0dB.wav\")\n",
    "pm.csii(cleanSig, enhancedSig, fs)# should be "
   ]
  },
  {
   "cell_type": "code",
   "execution_count": 34,
   "metadata": {},
   "outputs": [
    {
     "data": {
      "text/plain": [
       "(0.9121855615693153, 0.622560057685167, 0.20949166842622877)"
      ]
     },
     "execution_count": 34,
     "metadata": {},
     "output_type": "execute_result"
    }
   ],
   "source": [
    "fs, cleanSig = wavfile.read(\"./sp04.wav\")\n",
    "fs, enhancedSig = wavfile.read(\"./sp04_babble_sn10.wav\")\n",
    "pm.csii(cleanSig, enhancedSig, fs)# should be "
   ]
  },
  {
   "cell_type": "code",
   "execution_count": 35,
   "metadata": {},
   "outputs": [
    {
     "data": {
      "text/plain": [
       "(0.9761576893384923, 0.7825384403451644, 0.6281655003905069)"
      ]
     },
     "execution_count": 35,
     "metadata": {},
     "output_type": "execute_result"
    }
   ],
   "source": [
    "fs, cleanSig = wavfile.read(\"./enhanced.wav\")\n",
    "fs, enhancedSig = wavfile.read(\"./sp04_babble_sn10.wav\")\n",
    "pm.csii(cleanSig, enhancedSig[0:len(cleanSig)], fs) # should be "
   ]
  },
  {
   "cell_type": "code",
   "execution_count": null,
   "metadata": {},
   "outputs": [],
   "source": []
  }
 ],
 "metadata": {
  "kernelspec": {
   "display_name": "Python 3",
   "language": "python",
   "name": "python3"
  },
  "language_info": {
   "codemirror_mode": {
    "name": "ipython",
    "version": 3
   },
   "file_extension": ".py",
   "mimetype": "text/x-python",
   "name": "python",
   "nbconvert_exporter": "python",
   "pygments_lexer": "ipython3",
   "version": "3.6.9"
  }
 },
 "nbformat": 4,
 "nbformat_minor": 2
}
