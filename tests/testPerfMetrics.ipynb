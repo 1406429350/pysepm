{
 "cells": [
  {
   "cell_type": "code",
   "execution_count": 1,
   "metadata": {},
   "outputs": [],
   "source": [
    "from scipy.io import wavfile,loadmat\n",
    "from scipy.signal import stft,get_window, correlate\n",
    "import librosa\n",
    "import numpy as np\n",
    "import matplotlib.pyplot as plt\n",
    "import sys\n",
    "sys.path.append(\"../\") \n",
    "\n",
    "import pysepm as pm #import fwSNRseg,SNRseg,llr,wss, composite,pesq,stoi"
   ]
  },
  {
   "cell_type": "code",
   "execution_count": 3,
   "metadata": {},
   "outputs": [
    {
     "name": "stdout",
     "output_type": "stream",
     "text": [
      "include pre-emphasis\n",
      "bark filter not tested\n",
      "236903.55\n"
     ]
    }
   ],
   "source": [
    "fs, cleanSig = wavfile.read(\"./speech.wav\")\n",
    "fs, enhancedSig = wavfile.read(\"./speech_bab_0dB.wav\")\n",
    "bsd,clean,enh=pm.bsd(cleanSig, enhancedSig, fs)# should be  3.3554\n",
    "print(bsd)"
   ]
  },
  {
   "cell_type": "code",
   "execution_count": 15,
   "metadata": {},
   "outputs": [],
   "source": [
    "nom=np.sum(np.square(clean-enh),axis=0)"
   ]
  },
  {
   "cell_type": "code",
   "execution_count": 12,
   "metadata": {},
   "outputs": [],
   "source": [
    "denom=np.sum(np.square(clean),axis=0)"
   ]
  },
  {
   "cell_type": "code",
   "execution_count": 17,
   "metadata": {},
   "outputs": [
    {
     "data": {
      "text/plain": [
       "236903.55"
      ]
     },
     "execution_count": 17,
     "metadata": {},
     "output_type": "execute_result"
    }
   ],
   "source": [
    "np.mean(nom/denom)"
   ]
  },
  {
   "cell_type": "code",
   "execution_count": 2,
   "metadata": {},
   "outputs": [
    {
     "name": "stdout",
     "output_type": "stream",
     "text": [
      "bark filter not tested\n"
     ]
    }
   ],
   "source": [
    "a = pm.reverberationMeasures.barks(22050,2048,24)"
   ]
  },
  {
   "cell_type": "code",
   "execution_count": 4,
   "metadata": {},
   "outputs": [
    {
     "data": {
      "image/png": "[encoded data removed]",
      "text/plain": [
       "<Figure size 432x288 with 1 Axes>"
      ]
     },
     "metadata": {
      "needs_background": "light"
     },
     "output_type": "display_data"
    }
   ],
   "source": [
    "plt.plot(a.T);"
   ]
  },
  {
   "cell_type": "code",
   "execution_count": 19,
   "metadata": {},
   "outputs": [
    {
     "data": {
      "text/plain": [
       "array([[0.        , 0.        , 0.        , ..., 0.        , 0.        ,\n",
       "        0.        ],\n",
       "       [0.17526951, 0.        , 0.        , ..., 0.        , 0.        ,\n",
       "        0.        ],\n",
       "       [0.35053903, 0.        , 0.        , ..., 0.        , 0.        ,\n",
       "        0.        ],\n",
       "       ...,\n",
       "       [0.        , 0.        , 0.        , ..., 0.        , 0.        ,\n",
       "        0.        ],\n",
       "       [0.        , 0.        , 0.        , ..., 0.        , 0.        ,\n",
       "        0.        ],\n",
       "       [0.        , 0.        , 0.        , ..., 0.        , 0.        ,\n",
       "        0.        ]], dtype=float32)"
      ]
     },
     "execution_count": 19,
     "metadata": {},
     "output_type": "execute_result"
    }
   ],
   "source": [
    "a.T[0:100,:]"
   ]
  },
  {
   "cell_type": "code",
   "execution_count": null,
   "metadata": {},
   "outputs": [],
   "source": []
  },
  {
   "cell_type": "code",
   "execution_count": null,
   "metadata": {},
   "outputs": [],
   "source": []
  },
  {
   "cell_type": "code",
   "execution_count": null,
   "metadata": {},
   "outputs": [],
   "source": []
  },
  {
   "cell_type": "code",
   "execution_count": null,
   "metadata": {},
   "outputs": [],
   "source": []
  },
  {
   "cell_type": "code",
   "execution_count": null,
   "metadata": {},
   "outputs": [],
   "source": []
  },
  {
   "cell_type": "code",
   "execution_count": 13,
   "metadata": {},
   "outputs": [
    {
     "data": {
      "text/plain": [
       "(1, 3)"
      ]
     },
     "execution_count": 13,
     "metadata": {},
     "output_type": "execute_result"
    }
   ],
   "source": [
    "\n"
   ]
  },
  {
   "cell_type": "code",
   "execution_count": 8,
   "metadata": {},
   "outputs": [],
   "source": [
    "resultsOrig = loadmat('results.mat')\n",
    "resultsOrig=resultsOrig['results']\n"
   ]
  },
  {
   "cell_type": "code",
   "execution_count": 3,
   "metadata": {},
   "outputs": [],
   "source": [
    "filePairs=[]\n",
    "filePairs.append(['speech.wav','speech_bab_0dB.wav'])\n",
    "filePairs.append(['sp04.wav','sp04_babble_sn10.wav'])\n",
    "filePairs.append(['enhanced.wav','sp04_babble_sn10.wav'])\n",
    "filePairs.append(['sp04.wav','enhanced.wav'])\n",
    "filePairs.append(['S_03_01.wav','S_03_01_babble_sn0_klt.wav'])\n",
    "filePairs.append(['cleanSample_valIdx12.wav','noisySample_valIdx12.wav'])\n",
    "filePairs.append(['cleanSample_valIdx12.wav','enhancedSample_valIdx12.wav'])\n",
    "filePairs.append(['cleanSample_valIdx356.wav','noisySample_valIdx356.wav'])\n",
    "filePairs.append(['cleanSample_valIdx356.wav','enhancedSample_valIdx356.wav'])"
   ]
  },
  {
   "cell_type": "code",
   "execution_count": 17,
   "metadata": {},
   "outputs": [
    {
     "name": "stderr",
     "output_type": "stream",
     "text": [
      "/usr/local/lib/python3.6/dist-packages/srmrpy/hilbert.py:69: FutureWarning: Using a non-tuple sequence for multidimensional indexing is deprecated; use `arr[tuple(seq)]` instead of `arr[seq]`. In the future this will be interpreted as an array index, `arr[np.array(seq)]`, which will result either in an error or a different result.\n",
      "  h = h[ind]\n"
     ]
    }
   ],
   "source": [
    "results = np.zeros((len(filePairs),16))\n",
    "for idx,filePair in enumerate(filePairs):\n",
    "    fs, cleanSig = wavfile.read(filePair[0])\n",
    "    fs, enhancedSig = wavfile.read(filePair[1])\n",
    "    if cleanSig.dtype=='int16':\n",
    "        cleanSig = cleanSig.astype('float')/abs(np.iinfo(cleanSig.dtype).min)\n",
    "    if enhancedSig.dtype=='int16':\n",
    "        enhancedSig = enhancedSig.astype('float')/abs(np.iinfo(enhancedSig.dtype).min)\n",
    "    \n",
    "    if cleanSig.shape!=enhancedSig.shape:\n",
    "        minLen=min((len(cleanSig),len(enhancedSig)))\n",
    "        cleanSig = cleanSig[0:minLen]\n",
    "        enhancedSig = enhancedSig[0:minLen]\n",
    "    cleanSig = cleanSig/np.max(np.abs(cleanSig))\n",
    "    enhancedSig = enhancedSig/np.max(np.abs(enhancedSig))\n",
    "    results[idx,0]=pm.fwSNRseg(cleanSig, enhancedSig, fs)\n",
    "    results[idx,1]=pm.SNRseg(cleanSig, enhancedSig, fs)\n",
    "    results[idx,2]=pm.llr(cleanSig, enhancedSig, fs)\n",
    "    results[idx,3]=pm.wss(cleanSig, enhancedSig, fs)\n",
    "    results[idx,4]=pm.cepstrum_distance(cleanSig, enhancedSig, fs)\n",
    "    results[idx,5]=pm.stoi(cleanSig, enhancedSig, fs)\n",
    "    CSIIh,CSIIm,CSIIl=pm.csii(cleanSig, enhancedSig, fs)\n",
    "    results[idx,6]=CSIIh\n",
    "    results[idx,7]=CSIIm\n",
    "    results[idx,8]=CSIIl\n",
    "    results[idx,9]=CSIIl\n",
    "    \n",
    "    if (fs!=16000) | (fs!=8000):\n",
    "        cleanSig=librosa.core.resample(cleanSig, fs,16000)\n",
    "        enhancedSig=librosa.core.resample(enhancedSig,fs,16000)        \n",
    "        fs = 16000        \n",
    "    mos_lqo, pesq_mos = pm.pesq(cleanSig, enhancedSig,fs)   \n",
    "    results[idx,10] = mos_lqo\n",
    "    Csig,Cbak,Covl=pm.composite(cleanSig, enhancedSig, fs)\n",
    "    results[idx,11]=Csig\n",
    "    results[idx,12]=Cbak\n",
    "    results[idx,13]=Covl\n",
    "    results[idx,14]=pm.ncm(cleanSig, enhancedSig, fs)\n",
    "    ratio, energy = pm.srmr(enhancedSig,fs, n_cochlear_filters=23, low_freq=125, min_cf=4, max_cf=128, fast=False)\n",
    "    results[idx,15]= ratio\n"
   ]
  },
  {
   "cell_type": "code",
   "execution_count": 23,
   "metadata": {},
   "outputs": [],
   "source": [
    "relErr=(results-resultsOrig)/(resultsOrig+1e-20)"
   ]
  },
  {
   "cell_type": "code",
   "execution_count": 25,
   "metadata": {},
   "outputs": [
    {
     "data": {
      "text/plain": [
       "array([ 0.89866235,  9.87468543,  9.87757872,  8.07671193, -4.58756266,\n",
       "        3.43626201,  3.00168894,  0.47358044,  2.37719669])"
      ]
     },
     "execution_count": 25,
     "metadata": {},
     "output_type": "execute_result"
    }
   ],
   "source": [
    "relErr[:,-1]*100"
   ]
  },
  {
   "cell_type": "markdown",
   "metadata": {},
   "source": [
    "# frequency weighted segmental SNR (fwSNRSeg)"
   ]
  },
  {
   "cell_type": "code",
   "execution_count": 2,
   "metadata": {
    "scrolled": true
   },
   "outputs": [
    {
     "data": {
      "text/plain": [
       "3.355400106582439"
      ]
     },
     "execution_count": 2,
     "metadata": {},
     "output_type": "execute_result"
    }
   ],
   "source": [
    "fs, cleanSig = wavfile.read(\"./speech.wav\")\n",
    "fs, enhancedSig = wavfile.read(\"./speech_bab_0dB.wav\")\n",
    "pm.fwSNRseg(cleanSig, enhancedSig, fs)# should be  3.3554\n"
   ]
  },
  {
   "cell_type": "code",
   "execution_count": 3,
   "metadata": {},
   "outputs": [
    {
     "data": {
      "text/plain": [
       "10.093763940018944"
      ]
     },
     "execution_count": 3,
     "metadata": {},
     "output_type": "execute_result"
    }
   ],
   "source": [
    "fs, cleanSig = wavfile.read(\"./sp04.wav\")\n",
    "fs, enhancedSig = wavfile.read(\"./sp04_babble_sn10.wav\")\n",
    "pm.fwSNRseg(cleanSig, enhancedSig, fs)# should be  10.0938\n"
   ]
  },
  {
   "cell_type": "code",
   "execution_count": 4,
   "metadata": {},
   "outputs": [
    {
     "data": {
      "text/plain": [
       "12.560192001043312"
      ]
     },
     "execution_count": 4,
     "metadata": {},
     "output_type": "execute_result"
    }
   ],
   "source": [
    "fs, cleanSig = wavfile.read(\"./enhanced.wav\")\n",
    "fs, enhancedSig = wavfile.read(\"./sp04_babble_sn10.wav\")\n",
    "pm.fwSNRseg(cleanSig, enhancedSig[0:len(cleanSig)], fs) # should be  12.5602\n"
   ]
  },
  {
   "cell_type": "markdown",
   "metadata": {},
   "source": [
    "# Segmental SNR (SNRSeg)"
   ]
  },
  {
   "cell_type": "code",
   "execution_count": 123,
   "metadata": {},
   "outputs": [
    {
     "data": {
      "text/plain": [
       "-4.0386645840708395"
      ]
     },
     "execution_count": 123,
     "metadata": {},
     "output_type": "execute_result"
    }
   ],
   "source": [
    "fs, cleanSig = wavfile.read(\"./speech.wav\")\n",
    "fs, enhancedSig = wavfile.read(\"./speech_bab_0dB.wav\")\n",
    "pm.SNRseg(cleanSig, enhancedSig, fs)# should be -4.0387\n"
   ]
  },
  {
   "cell_type": "code",
   "execution_count": 124,
   "metadata": {},
   "outputs": [
    {
     "data": {
      "text/plain": [
       "0.959472693785315"
      ]
     },
     "execution_count": 124,
     "metadata": {},
     "output_type": "execute_result"
    }
   ],
   "source": [
    "fs, cleanSig = wavfile.read(\"./sp04.wav\")\n",
    "fs, enhancedSig = wavfile.read(\"./sp04_babble_sn10.wav\")\n",
    "pm.SNRseg(cleanSig, enhancedSig, fs)# should be 0.9595\n"
   ]
  },
  {
   "cell_type": "code",
   "execution_count": 125,
   "metadata": {},
   "outputs": [
    {
     "data": {
      "text/plain": [
       "5.281379775527017"
      ]
     },
     "execution_count": 125,
     "metadata": {},
     "output_type": "execute_result"
    }
   ],
   "source": [
    "fs, cleanSig = wavfile.read(\"./enhanced.wav\")\n",
    "fs, enhancedSig = wavfile.read(\"./sp04_babble_sn10.wav\")\n",
    "pm.SNRseg(cleanSig, enhancedSig[0:len(cleanSig)], fs) # should be 5.2814\n"
   ]
  },
  {
   "cell_type": "markdown",
   "metadata": {},
   "source": [
    "# Log Likelihood Ratio (LLR)"
   ]
  },
  {
   "cell_type": "code",
   "execution_count": 8,
   "metadata": {},
   "outputs": [
    {
     "data": {
      "text/plain": [
       "0.9607521284183373"
      ]
     },
     "execution_count": 8,
     "metadata": {},
     "output_type": "execute_result"
    }
   ],
   "source": [
    "fs, cleanSig = wavfile.read(\"./speech.wav\")\n",
    "fs, enhancedSig = wavfile.read(\"./speech_bab_0dB.wav\")\n",
    "pm.llr(cleanSig, enhancedSig, fs)# should be 0.9593\n"
   ]
  },
  {
   "cell_type": "code",
   "execution_count": 9,
   "metadata": {},
   "outputs": [
    {
     "data": {
      "text/plain": [
       "0.6399952859426925"
      ]
     },
     "execution_count": 9,
     "metadata": {},
     "output_type": "execute_result"
    }
   ],
   "source": [
    "fs, cleanSig = wavfile.read(\"./sp04.wav\")\n",
    "fs, enhancedSig = wavfile.read(\"./sp04_babble_sn10.wav\")\n",
    "pm.llr(cleanSig, enhancedSig, fs)# should be 0.6400\n"
   ]
  },
  {
   "cell_type": "code",
   "execution_count": 10,
   "metadata": {},
   "outputs": [
    {
     "data": {
      "text/plain": [
       "0.222739174060473"
      ]
     },
     "execution_count": 10,
     "metadata": {},
     "output_type": "execute_result"
    }
   ],
   "source": [
    "fs, cleanSig = wavfile.read(\"./enhanced.wav\")\n",
    "fs, enhancedSig = wavfile.read(\"./sp04_babble_sn10.wav\")\n",
    "pm.llr(cleanSig, enhancedSig[0:len(cleanSig)], fs) # should be 0.2227"
   ]
  },
  {
   "cell_type": "markdown",
   "metadata": {},
   "source": [
    "# Weighted Spectral Slope (WSS)"
   ]
  },
  {
   "cell_type": "code",
   "execution_count": 11,
   "metadata": {},
   "outputs": [
    {
     "data": {
      "text/plain": [
       "52.65786610835284"
      ]
     },
     "execution_count": 11,
     "metadata": {},
     "output_type": "execute_result"
    }
   ],
   "source": [
    "fs, cleanSig = wavfile.read(\"./speech.wav\")\n",
    "fs, enhancedSig = wavfile.read(\"./speech_bab_0dB.wav\")\n",
    "pm.wss(cleanSig, enhancedSig, fs)# should be 52.6579"
   ]
  },
  {
   "cell_type": "code",
   "execution_count": 12,
   "metadata": {},
   "outputs": [
    {
     "data": {
      "text/plain": [
       "37.64901719583485"
      ]
     },
     "execution_count": 12,
     "metadata": {},
     "output_type": "execute_result"
    }
   ],
   "source": [
    "fs, cleanSig = wavfile.read(\"./sp04.wav\")\n",
    "fs, enhancedSig = wavfile.read(\"./sp04_babble_sn10.wav\")\n",
    "pm.wss(cleanSig, enhancedSig, fs)# should be 37.6490"
   ]
  },
  {
   "cell_type": "code",
   "execution_count": 13,
   "metadata": {},
   "outputs": [
    {
     "data": {
      "text/plain": [
       "19.612652522957717"
      ]
     },
     "execution_count": 13,
     "metadata": {},
     "output_type": "execute_result"
    }
   ],
   "source": [
    "fs, cleanSig = wavfile.read(\"./enhanced.wav\")\n",
    "fs, enhancedSig = wavfile.read(\"./sp04_babble_sn10.wav\")\n",
    "pm.wss(cleanSig, enhancedSig[0:len(cleanSig)], fs) # should be 19.6127"
   ]
  },
  {
   "cell_type": "markdown",
   "metadata": {},
   "source": [
    "# PESQ"
   ]
  },
  {
   "cell_type": "code",
   "execution_count": 14,
   "metadata": {},
   "outputs": [
    {
     "data": {
      "text/plain": [
       "1.0832337141036987"
      ]
     },
     "execution_count": 14,
     "metadata": {},
     "output_type": "execute_result"
    }
   ],
   "source": [
    "fs, cleanSig = wavfile.read(\"./speech.wav\")\n",
    "fs, enhancedSig = wavfile.read(\"./speech_bab_0dB.wav\")\n",
    "pm.pesq(cleanSig, enhancedSig, fs)# should be 1.0832"
   ]
  },
  {
   "cell_type": "code",
   "execution_count": 15,
   "metadata": {},
   "outputs": [
    {
     "data": {
      "text/plain": [
       "2.463416557463939"
      ]
     },
     "execution_count": 15,
     "metadata": {},
     "output_type": "execute_result"
    }
   ],
   "source": [
    "fs, cleanSig = wavfile.read(\"./sp04.wav\")\n",
    "fs, enhancedSig = wavfile.read(\"./sp04_babble_sn10.wav\")\n",
    "pm.pesq(cleanSig, enhancedSig, fs)# should be 2.4634"
   ]
  },
  {
   "cell_type": "code",
   "execution_count": 16,
   "metadata": {},
   "outputs": [
    {
     "data": {
      "text/plain": [
       "2.7307331381405935"
      ]
     },
     "execution_count": 16,
     "metadata": {},
     "output_type": "execute_result"
    }
   ],
   "source": [
    "fs, cleanSig = wavfile.read(\"./enhanced.wav\")\n",
    "fs, enhancedSig = wavfile.read(\"./sp04_babble_sn10.wav\")\n",
    "pm.pesq(cleanSig, enhancedSig[0:len(cleanSig)], fs) # should be 2.7293"
   ]
  },
  {
   "cell_type": "markdown",
   "metadata": {},
   "source": [
    "# Composite Objective Speech Quality Measure"
   ]
  },
  {
   "cell_type": "code",
   "execution_count": 17,
   "metadata": {},
   "outputs": [
    {
     "data": {
      "text/plain": [
       "(2.2836551944868853, 1.5287447837866348, 1.6054929873448194)"
      ]
     },
     "execution_count": 17,
     "metadata": {},
     "output_type": "execute_result"
    }
   ],
   "source": [
    "fs, cleanSig = wavfile.read(\"./speech.wav\")\n",
    "fs, enhancedSig = wavfile.read(\"./speech_bab_0dB.wav\")\n",
    "pm.composite(cleanSig, enhancedSig, fs)# should be (2.2837,1.5287,1.6055)"
   ]
  },
  {
   "cell_type": "code",
   "execution_count": 18,
   "metadata": {},
   "outputs": [
    {
     "data": {
      "text/plain": [
       "(3.581043880153211, 2.608416773805394, 2.9858296219849687)"
      ]
     },
     "execution_count": 18,
     "metadata": {},
     "output_type": "execute_result"
    }
   ],
   "source": [
    "fs, cleanSig = wavfile.read(\"./sp04.wav\")\n",
    "fs, enhancedSig = wavfile.read(\"./sp04_babble_sn10.wav\")\n",
    "pm.composite(cleanSig, enhancedSig, fs)# should be (3.5810,2.6084,2.9858)"
   ]
  },
  {
   "cell_type": "code",
   "execution_count": 19,
   "metadata": {},
   "outputs": [
    {
     "data": {
      "text/plain": [
       "(4.333919599483931, 3.1347287982287013, 3.5409091514235116)"
      ]
     },
     "execution_count": 19,
     "metadata": {},
     "output_type": "execute_result"
    }
   ],
   "source": [
    "fs, cleanSig = wavfile.read(\"./enhanced.wav\")\n",
    "fs, enhancedSig = wavfile.read(\"./sp04_babble_sn10.wav\")\n",
    "pm.composite(cleanSig, enhancedSig[0:len(cleanSig)], fs) # should be (4.3330,3.1340,3.5397)"
   ]
  },
  {
   "cell_type": "markdown",
   "metadata": {},
   "source": [
    "# Cepstrum Distance Objective Speech Quality Measure"
   ]
  },
  {
   "cell_type": "code",
   "execution_count": 20,
   "metadata": {},
   "outputs": [
    {
     "data": {
      "text/plain": [
       "6.3889163971985266"
      ]
     },
     "execution_count": 20,
     "metadata": {},
     "output_type": "execute_result"
    }
   ],
   "source": [
    "fs, cleanSig = wavfile.read(\"./speech.wav\")\n",
    "fs, enhancedSig = wavfile.read(\"./speech_bab_0dB.wav\")\n",
    "pm.cepstrum_distance(cleanSig, enhancedSig, fs)# should be 6.388916397199216"
   ]
  },
  {
   "cell_type": "code",
   "execution_count": 21,
   "metadata": {},
   "outputs": [
    {
     "data": {
      "text/plain": [
       "4.26593320307941"
      ]
     },
     "execution_count": 21,
     "metadata": {},
     "output_type": "execute_result"
    }
   ],
   "source": [
    "fs, cleanSig = wavfile.read(\"./sp04.wav\")\n",
    "fs, enhancedSig = wavfile.read(\"./sp04_babble_sn10.wav\")\n",
    "pm.cepstrum_distance(cleanSig, enhancedSig, fs)# should be 4.265933203079426"
   ]
  },
  {
   "cell_type": "code",
   "execution_count": 22,
   "metadata": {},
   "outputs": [
    {
     "data": {
      "text/plain": [
       "2.3969895754520847"
      ]
     },
     "execution_count": 22,
     "metadata": {},
     "output_type": "execute_result"
    }
   ],
   "source": [
    "fs, cleanSig = wavfile.read(\"./enhanced.wav\")\n",
    "fs, enhancedSig = wavfile.read(\"./sp04_babble_sn10.wav\")\n",
    "pm.cepstrum_distance(cleanSig, enhancedSig, fs)# should be 2.396989575452212"
   ]
  },
  {
   "cell_type": "markdown",
   "metadata": {},
   "source": [
    "# STOI"
   ]
  },
  {
   "cell_type": "code",
   "execution_count": 23,
   "metadata": {},
   "outputs": [
    {
     "data": {
      "text/plain": [
       "0.6739177895331303"
      ]
     },
     "execution_count": 23,
     "metadata": {},
     "output_type": "execute_result"
    }
   ],
   "source": [
    "fs, cleanSig = wavfile.read(\"./speech.wav\")\n",
    "fs, enhancedSig = wavfile.read(\"./speech_bab_0dB.wav\")\n",
    "pm.stoi(cleanSig, enhancedSig, fs)# should be 0.6739"
   ]
  },
  {
   "cell_type": "code",
   "execution_count": 24,
   "metadata": {},
   "outputs": [
    {
     "data": {
      "text/plain": [
       "0.8934582975768947"
      ]
     },
     "execution_count": 24,
     "metadata": {},
     "output_type": "execute_result"
    }
   ],
   "source": [
    "fs, cleanSig = wavfile.read(\"./sp04.wav\")\n",
    "fs, enhancedSig = wavfile.read(\"./sp04_babble_sn10.wav\")\n",
    "pm.stoi(cleanSig, enhancedSig, fs)# should be 0.8934"
   ]
  },
  {
   "cell_type": "code",
   "execution_count": 25,
   "metadata": {},
   "outputs": [
    {
     "data": {
      "text/plain": [
       "0.8916166026077093"
      ]
     },
     "execution_count": 25,
     "metadata": {},
     "output_type": "execute_result"
    }
   ],
   "source": [
    "fs, cleanSig = wavfile.read(\"./enhanced.wav\")\n",
    "fs, enhancedSig = wavfile.read(\"./sp04_babble_sn10.wav\")\n",
    "pm.stoi(cleanSig, enhancedSig[0:len(cleanSig)], fs) # should be 0.8917"
   ]
  },
  {
   "cell_type": "code",
   "execution_count": 26,
   "metadata": {},
   "outputs": [],
   "source": [
    "from pesq import pesq\n",
    "from scipy.signal import stft,get_window,correlate,resample\n"
   ]
  },
  {
   "cell_type": "code",
   "execution_count": 27,
   "metadata": {},
   "outputs": [],
   "source": [
    "        numSamples=round(len(cleanSig)/fs*16000)\n",
    "        fs = 16000\n",
    "        pesq_mos = pesq(fs,resample(cleanSig, numSamples), resample(enhancedSig, numSamples), 'wb')\n"
   ]
  },
  {
   "cell_type": "code",
   "execution_count": null,
   "metadata": {},
   "outputs": [],
   "source": []
  },
  {
   "cell_type": "code",
   "execution_count": null,
   "metadata": {},
   "outputs": [],
   "source": []
  },
  {
   "cell_type": "code",
   "execution_count": null,
   "metadata": {},
   "outputs": [],
   "source": []
  },
  {
   "cell_type": "code",
   "execution_count": null,
   "metadata": {},
   "outputs": [],
   "source": []
  },
  {
   "cell_type": "code",
   "execution_count": null,
   "metadata": {},
   "outputs": [],
   "source": []
  },
  {
   "cell_type": "code",
   "execution_count": null,
   "metadata": {},
   "outputs": [],
   "source": []
  },
  {
   "cell_type": "code",
   "execution_count": null,
   "metadata": {},
   "outputs": [],
   "source": []
  },
  {
   "cell_type": "code",
   "execution_count": null,
   "metadata": {},
   "outputs": [],
   "source": []
  },
  {
   "cell_type": "code",
   "execution_count": null,
   "metadata": {},
   "outputs": [],
   "source": []
  },
  {
   "cell_type": "markdown",
   "metadata": {},
   "source": [
    "# NCM"
   ]
  },
  {
   "cell_type": "code",
   "execution_count": 29,
   "metadata": {},
   "outputs": [
    {
     "data": {
      "text/plain": [
       "0.5328171511427755"
      ]
     },
     "execution_count": 29,
     "metadata": {},
     "output_type": "execute_result"
    }
   ],
   "source": [
    "fs, cleanSig = wavfile.read(\"./speech.wav\")\n",
    "fs, enhancedSig = wavfile.read(\"./speech_bab_0dB.wav\")\n",
    "pm.ncm(cleanSig, enhancedSig, fs)# should be "
   ]
  },
  {
   "cell_type": "code",
   "execution_count": 30,
   "metadata": {},
   "outputs": [
    {
     "data": {
      "text/plain": [
       "0.9050747979588915"
      ]
     },
     "execution_count": 30,
     "metadata": {},
     "output_type": "execute_result"
    }
   ],
   "source": [
    "fs, cleanSig = wavfile.read(\"./sp04.wav\")\n",
    "fs, enhancedSig = wavfile.read(\"./sp04_babble_sn10.wav\")\n",
    "pm.ncm(cleanSig, enhancedSig, fs)# should be "
   ]
  },
  {
   "cell_type": "code",
   "execution_count": 31,
   "metadata": {},
   "outputs": [
    {
     "data": {
      "text/plain": [
       "0.9633151692925036"
      ]
     },
     "execution_count": 31,
     "metadata": {},
     "output_type": "execute_result"
    }
   ],
   "source": [
    "fs, cleanSig = wavfile.read(\"./enhanced.wav\")\n",
    "fs, enhancedSig = wavfile.read(\"./sp04_babble_sn10.wav\")\n",
    "pm.ncm(cleanSig, enhancedSig[0:len(cleanSig)], fs) # should be "
   ]
  },
  {
   "cell_type": "markdown",
   "metadata": {},
   "source": [
    "# CSII"
   ]
  },
  {
   "cell_type": "code",
   "execution_count": 33,
   "metadata": {},
   "outputs": [
    {
     "data": {
      "text/plain": [
       "(0.5747598820639694, 0.3343790504514923, 0.02616214182320878)"
      ]
     },
     "execution_count": 33,
     "metadata": {},
     "output_type": "execute_result"
    }
   ],
   "source": [
    "fs, cleanSig = wavfile.read(\"./speech.wav\")\n",
    "fs, enhancedSig = wavfile.read(\"./speech_bab_0dB.wav\")\n",
    "pm.csii(cleanSig, enhancedSig, fs)# should be "
   ]
  },
  {
   "cell_type": "code",
   "execution_count": 34,
   "metadata": {},
   "outputs": [
    {
     "data": {
      "text/plain": [
       "(0.9121855615693153, 0.622560057685167, 0.20949166842622877)"
      ]
     },
     "execution_count": 34,
     "metadata": {},
     "output_type": "execute_result"
    }
   ],
   "source": [
    "fs, cleanSig = wavfile.read(\"./sp04.wav\")\n",
    "fs, enhancedSig = wavfile.read(\"./sp04_babble_sn10.wav\")\n",
    "pm.csii(cleanSig, enhancedSig, fs)# should be "
   ]
  },
  {
   "cell_type": "code",
   "execution_count": 35,
   "metadata": {},
   "outputs": [
    {
     "data": {
      "text/plain": [
       "(0.9761576893384923, 0.7825384403451644, 0.6281655003905069)"
      ]
     },
     "execution_count": 35,
     "metadata": {},
     "output_type": "execute_result"
    }
   ],
   "source": [
    "fs, cleanSig = wavfile.read(\"./enhanced.wav\")\n",
    "fs, enhancedSig = wavfile.read(\"./sp04_babble_sn10.wav\")\n",
    "pm.csii(cleanSig, enhancedSig[0:len(cleanSig)], fs) # should be "
   ]
  },
  {
   "cell_type": "code",
   "execution_count": null,
   "metadata": {},
   "outputs": [],
   "source": []
  }
 ],
 "metadata": {
  "kernelspec": {
   "display_name": "Python 3",
   "language": "python",
   "name": "python3"
  },
  "language_info": {
   "codemirror_mode": {
    "name": "ipython",
    "version": 3
   },
   "file_extension": ".py",
   "mimetype": "text/x-python",
   "name": "python",
   "nbconvert_exporter": "python",
   "pygments_lexer": "ipython3",
   "version": "3.6.9"
  }
 },
 "nbformat": 4,
 "nbformat_minor": 2
}
