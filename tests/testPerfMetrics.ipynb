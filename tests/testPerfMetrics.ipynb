{
 "cells": [
  {
   "cell_type": "code",
   "execution_count": 1,
   "metadata": {},
   "outputs": [],
   "source": [
    "from scipy.io import wavfile\n",
    "from scipy.signal import stft,get_window, correlate\n",
    "import numpy as np\n",
    "import pysepm as pm #import fwSNRseg,SNRseg,llr,wss, composite,pesq,stoi"
   ]
  },
  {
   "cell_type": "markdown",
   "metadata": {},
   "source": [
    "# frequency weighted segmental SNR (fwSNRSeg)"
   ]
  },
  {
   "cell_type": "code",
   "execution_count": 2,
   "metadata": {
    "scrolled": true
   },
   "outputs": [
    {
     "data": {
      "text/plain": [
       "3.3554001065824384"
      ]
     },
     "execution_count": 2,
     "metadata": {},
     "output_type": "execute_result"
    }
   ],
   "source": [
    "fs, cleanSig = wavfile.read(\"./samples/speech.wav\")\n",
    "fs, enhancedSig = wavfile.read(\"./samples/speech_bab_0dB.wav\")\n",
    "pm.fwSNRseg(cleanSig, enhancedSig, fs)# should be  3.3554\n"
   ]
  },
  {
   "cell_type": "code",
   "execution_count": 3,
   "metadata": {},
   "outputs": [
    {
     "data": {
      "text/plain": [
       "10.093763940018947"
      ]
     },
     "execution_count": 3,
     "metadata": {},
     "output_type": "execute_result"
    }
   ],
   "source": [
    "fs, cleanSig = wavfile.read(\"./samples/sp04.wav\")\n",
    "fs, enhancedSig = wavfile.read(\"./samples/sp04_babble_sn10.wav\")\n",
    "pm.fwSNRseg(cleanSig, enhancedSig, fs)# should be  10.0938\n"
   ]
  },
  {
   "cell_type": "code",
   "execution_count": 4,
   "metadata": {},
   "outputs": [
    {
     "data": {
      "text/plain": [
       "12.560192001043312"
      ]
     },
     "execution_count": 4,
     "metadata": {},
     "output_type": "execute_result"
    }
   ],
   "source": [
    "fs, cleanSig = wavfile.read(\"./samples/enhanced.wav\")\n",
    "fs, enhancedSig = wavfile.read(\"./samples/sp04_babble_sn10.wav\")\n",
    "pm.fwSNRseg(cleanSig, enhancedSig[0:len(cleanSig)], fs) # should be  12.5602\n"
   ]
  },
  {
   "cell_type": "markdown",
   "metadata": {},
   "source": [
    "# Segmental SNR (SNRSeg)"
   ]
  },
  {
   "cell_type": "code",
   "execution_count": 5,
   "metadata": {},
   "outputs": [
    {
     "data": {
      "text/plain": [
       "-4.0386645840708395"
      ]
     },
     "execution_count": 5,
     "metadata": {},
     "output_type": "execute_result"
    }
   ],
   "source": [
    "fs, cleanSig = wavfile.read(\"./samples/speech.wav\")\n",
    "fs, enhancedSig = wavfile.read(\"./samples/speech_bab_0dB.wav\")\n",
    "pm.SNRseg(cleanSig, enhancedSig, fs)# should be -4.0387\n"
   ]
  },
  {
   "cell_type": "code",
   "execution_count": 6,
   "metadata": {},
   "outputs": [
    {
     "data": {
      "text/plain": [
       "0.959472693785315"
      ]
     },
     "execution_count": 6,
     "metadata": {},
     "output_type": "execute_result"
    }
   ],
   "source": [
    "fs, cleanSig = wavfile.read(\"./samples/sp04.wav\")\n",
    "fs, enhancedSig = wavfile.read(\"./samples/sp04_babble_sn10.wav\")\n",
    "pm.SNRseg(cleanSig, enhancedSig, fs)# should be 0.9595\n"
   ]
  },
  {
   "cell_type": "code",
   "execution_count": 7,
   "metadata": {},
   "outputs": [
    {
     "data": {
      "text/plain": [
       "5.281379775527017"
      ]
     },
     "execution_count": 7,
     "metadata": {},
     "output_type": "execute_result"
    }
   ],
   "source": [
    "fs, cleanSig = wavfile.read(\"./samples/enhanced.wav\")\n",
    "fs, enhancedSig = wavfile.read(\"./samples/sp04_babble_sn10.wav\")\n",
    "pm.SNRseg(cleanSig, enhancedSig[0:len(cleanSig)], fs) # should be 5.2814\n"
   ]
  },
  {
   "cell_type": "markdown",
   "metadata": {},
   "source": [
    "# Log Likelihood Ratio (LLR)"
   ]
  },
  {
   "cell_type": "code",
   "execution_count": 8,
   "metadata": {},
   "outputs": [
    {
     "data": {
      "text/plain": [
       "0.9607521284185142"
      ]
     },
     "execution_count": 8,
     "metadata": {},
     "output_type": "execute_result"
    }
   ],
   "source": [
    "fs, cleanSig = wavfile.read(\"./samples/speech.wav\")\n",
    "fs, enhancedSig = wavfile.read(\"./samples/speech_bab_0dB.wav\")\n",
    "pm.llr(cleanSig, enhancedSig, fs)# should be 0.9593\n"
   ]
  },
  {
   "cell_type": "code",
   "execution_count": 9,
   "metadata": {},
   "outputs": [
    {
     "data": {
      "text/plain": [
       "0.6399952859427331"
      ]
     },
     "execution_count": 9,
     "metadata": {},
     "output_type": "execute_result"
    }
   ],
   "source": [
    "fs, cleanSig = wavfile.read(\"./samples/sp04.wav\")\n",
    "fs, enhancedSig = wavfile.read(\"./samples/sp04_babble_sn10.wav\")\n",
    "pm.llr(cleanSig, enhancedSig, fs)# should be 0.6400\n"
   ]
  },
  {
   "cell_type": "code",
   "execution_count": 10,
   "metadata": {},
   "outputs": [
    {
     "data": {
      "text/plain": [
       "0.22273917406045848"
      ]
     },
     "execution_count": 10,
     "metadata": {},
     "output_type": "execute_result"
    }
   ],
   "source": [
    "fs, cleanSig = wavfile.read(\"./samples/enhanced.wav\")\n",
    "fs, enhancedSig = wavfile.read(\"./samples/sp04_babble_sn10.wav\")\n",
    "pm.llr(cleanSig, enhancedSig[0:len(cleanSig)], fs) # should be 0.2227"
   ]
  },
  {
   "cell_type": "markdown",
   "metadata": {},
   "source": [
    "# Weighted Spectral Slope (WSS)"
   ]
  },
  {
   "cell_type": "code",
   "execution_count": 11,
   "metadata": {},
   "outputs": [
    {
     "data": {
      "text/plain": [
       "52.65786610835284"
      ]
     },
     "execution_count": 11,
     "metadata": {},
     "output_type": "execute_result"
    }
   ],
   "source": [
    "fs, cleanSig = wavfile.read(\"./samples/speech.wav\")\n",
    "fs, enhancedSig = wavfile.read(\"./samples/speech_bab_0dB.wav\")\n",
    "pm.wss(cleanSig, enhancedSig, fs)# should be 52.6579"
   ]
  },
  {
   "cell_type": "code",
   "execution_count": 12,
   "metadata": {},
   "outputs": [
    {
     "data": {
      "text/plain": [
       "37.649017195834844"
      ]
     },
     "execution_count": 12,
     "metadata": {},
     "output_type": "execute_result"
    }
   ],
   "source": [
    "fs, cleanSig = wavfile.read(\"./samples/sp04.wav\")\n",
    "fs, enhancedSig = wavfile.read(\"./samples/sp04_babble_sn10.wav\")\n",
    "pm.wss(cleanSig, enhancedSig, fs)# should be 37.6490"
   ]
  },
  {
   "cell_type": "code",
   "execution_count": 13,
   "metadata": {},
   "outputs": [
    {
     "data": {
      "text/plain": [
       "19.612652522957717"
      ]
     },
     "execution_count": 13,
     "metadata": {},
     "output_type": "execute_result"
    }
   ],
   "source": [
    "fs, cleanSig = wavfile.read(\"./samples/enhanced.wav\")\n",
    "fs, enhancedSig = wavfile.read(\"./samples/sp04_babble_sn10.wav\")\n",
    "pm.wss(cleanSig, enhancedSig[0:len(cleanSig)], fs) # should be 19.6127"
   ]
  },
  {
   "cell_type": "markdown",
   "metadata": {},
   "source": [
    "# PESQ"
   ]
  },
  {
   "cell_type": "code",
   "execution_count": 20,
   "metadata": {},
   "outputs": [
    {
     "data": {
      "text/plain": [
       "1.0832337141036987"
      ]
     },
     "execution_count": 20,
     "metadata": {},
     "output_type": "execute_result"
    }
   ],
   "source": [
    "fs, cleanSig = wavfile.read(\"./samples/speech.wav\")\n",
    "fs, enhancedSig = wavfile.read(\"./samples/speech_bab_0dB.wav\")\n",
    "pm.pesq(cleanSig, enhancedSig, fs)# should be 1.0832"
   ]
  },
  {
   "cell_type": "code",
   "execution_count": 21,
   "metadata": {},
   "outputs": [
    {
     "data": {
      "text/plain": [
       "2.463416557463939"
      ]
     },
     "execution_count": 21,
     "metadata": {},
     "output_type": "execute_result"
    }
   ],
   "source": [
    "fs, cleanSig = wavfile.read(\"./samples/sp04.wav\")\n",
    "fs, enhancedSig = wavfile.read(\"./samples/sp04_babble_sn10.wav\")\n",
    "pm.pesq(cleanSig, enhancedSig, fs)# should be 2.4634"
   ]
  },
  {
   "cell_type": "code",
   "execution_count": 22,
   "metadata": {},
   "outputs": [
    {
     "data": {
      "text/plain": [
       "2.7307331381405935"
      ]
     },
     "execution_count": 22,
     "metadata": {},
     "output_type": "execute_result"
    }
   ],
   "source": [
    "fs, cleanSig = wavfile.read(\"./samples/enhanced.wav\")\n",
    "fs, enhancedSig = wavfile.read(\"./samples/sp04_babble_sn10.wav\")\n",
    "pm.pesq(cleanSig, enhancedSig[0:len(cleanSig)], fs) # should be 2.7293"
   ]
  },
  {
   "cell_type": "markdown",
   "metadata": {},
   "source": [
    "# Composite Objective Speech Quality Measure"
   ]
  },
  {
   "cell_type": "code",
   "execution_count": 14,
   "metadata": {},
   "outputs": [
    {
     "data": {
      "text/plain": [
       "(2.283655194486704, 1.5287447837866348, 1.6054929873447288)"
      ]
     },
     "execution_count": 14,
     "metadata": {},
     "output_type": "execute_result"
    }
   ],
   "source": [
    "fs, cleanSig = wavfile.read(\"./samples/speech.wav\")\n",
    "fs, enhancedSig = wavfile.read(\"./samples/speech_bab_0dB.wav\")\n",
    "pm.composite(cleanSig, enhancedSig, fs)# should be (2.2837,1.5287,1.6055)"
   ]
  },
  {
   "cell_type": "code",
   "execution_count": 15,
   "metadata": {},
   "outputs": [
    {
     "data": {
      "text/plain": [
       "(3.5810438801531697, 2.608416773805394, 2.985829621984948)"
      ]
     },
     "execution_count": 15,
     "metadata": {},
     "output_type": "execute_result"
    }
   ],
   "source": [
    "fs, cleanSig = wavfile.read(\"./samples/sp04.wav\")\n",
    "fs, enhancedSig = wavfile.read(\"./samples/sp04_babble_sn10.wav\")\n",
    "pm.composite(cleanSig, enhancedSig, fs)# should be (3.5810,2.6084,2.9858)"
   ]
  },
  {
   "cell_type": "code",
   "execution_count": 16,
   "metadata": {},
   "outputs": [
    {
     "data": {
      "text/plain": [
       "(4.333919599483947, 3.1347287982287013, 3.540909151423519)"
      ]
     },
     "execution_count": 16,
     "metadata": {},
     "output_type": "execute_result"
    }
   ],
   "source": [
    "fs, cleanSig = wavfile.read(\"./samples/enhanced.wav\")\n",
    "fs, enhancedSig = wavfile.read(\"./samples/sp04_babble_sn10.wav\")\n",
    "pm.composite(cleanSig, enhancedSig[0:len(cleanSig)], fs) # should be (4.3330,3.1340,3.5397)"
   ]
  },
  {
   "cell_type": "markdown",
   "metadata": {},
   "source": [
    "# STOI"
   ]
  },
  {
   "cell_type": "code",
   "execution_count": 23,
   "metadata": {},
   "outputs": [
    {
     "data": {
      "text/plain": [
       "0.6739177895331303"
      ]
     },
     "execution_count": 23,
     "metadata": {},
     "output_type": "execute_result"
    }
   ],
   "source": [
    "fs, cleanSig = wavfile.read(\"./samples/speech.wav\")\n",
    "fs, enhancedSig = wavfile.read(\"./samples/speech_bab_0dB.wav\")\n",
    "pm.stoi(cleanSig, enhancedSig, fs)# should be 0.6739"
   ]
  },
  {
   "cell_type": "code",
   "execution_count": 24,
   "metadata": {},
   "outputs": [
    {
     "data": {
      "text/plain": [
       "0.8934582975768947"
      ]
     },
     "execution_count": 24,
     "metadata": {},
     "output_type": "execute_result"
    }
   ],
   "source": [
    "fs, cleanSig = wavfile.read(\"./samples/sp04.wav\")\n",
    "fs, enhancedSig = wavfile.read(\"./samples/sp04_babble_sn10.wav\")\n",
    "pm.stoi(cleanSig, enhancedSig, fs)# should be 0.8934"
   ]
  },
  {
   "cell_type": "code",
   "execution_count": 25,
   "metadata": {},
   "outputs": [
    {
     "data": {
      "text/plain": [
       "0.8916166026077093"
      ]
     },
     "execution_count": 25,
     "metadata": {},
     "output_type": "execute_result"
    }
   ],
   "source": [
    "fs, cleanSig = wavfile.read(\"./samples/enhanced.wav\")\n",
    "fs, enhancedSig = wavfile.read(\"./samples/sp04_babble_sn10.wav\")\n",
    "pm.stoi(cleanSig, enhancedSig[0:len(cleanSig)], fs) # should be 0.8917"
   ]
  },
  {
   "cell_type": "code",
   "execution_count": null,
   "metadata": {},
   "outputs": [],
   "source": []
  }
 ],
 "metadata": {
  "kernelspec": {
   "display_name": "Python 3",
   "language": "python",
   "name": "python3"
  },
  "language_info": {
   "codemirror_mode": {
    "name": "ipython",
    "version": 3
   },
   "file_extension": ".py",
   "mimetype": "text/x-python",
   "name": "python",
   "nbconvert_exporter": "python",
   "pygments_lexer": "ipython3",
   "version": "3.6.8"
  }
 },
 "nbformat": 4,
 "nbformat_minor": 2
}
